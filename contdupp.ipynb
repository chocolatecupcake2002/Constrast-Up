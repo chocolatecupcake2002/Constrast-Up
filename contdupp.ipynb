{
 "cells": [
  {
   "cell_type": "code",
   "execution_count": 73,
   "id": "38073b4c",
   "metadata": {},
   "outputs": [],
   "source": [
    "import cv2\n",
    "import numpy as np\n",
    "import glob\n",
    "import matplotlib.pyplot as plt\n",
    "from PIL import Image, ImageEnhance"
   ]
  },
  {
   "cell_type": "code",
   "execution_count": 74,
   "id": "ab6a3f35",
   "metadata": {},
   "outputs": [],
   "source": [
    "Extension=\".jpg\""
   ]
  },
  {
   "cell_type": "code",
   "execution_count": null,
   "id": "589edc8c",
   "metadata": {},
   "outputs": [],
   "source": []
  },
  {
   "cell_type": "code",
   "execution_count": 75,
   "id": "f04046d5",
   "metadata": {},
   "outputs": [],
   "source": [
    "def cont_aug(foldername):\n",
    "    array_of_images = glob.glob(foldername + \"/*.jpg\") \n",
    "    for image in array_of_images:\n",
    "        img = cv2.imread(image)\n",
    "        img_name = image.split(foldername+\"\\\\\")[1].split(\".jpg\")[0]\n",
    "        cont_image(img,img_name)\n",
    "def cont_image(src,img_name):\n",
    "    file = src\n",
    "    im = Image.open(folder+\"/\"+img_name+\".jpg\")\n",
    "    enhancer = ImageEnhance.Contrast(im)\n",
    "    factor = 1.25 #increase contrast\n",
    "    im_output = enhancer.enhance(factor)\n",
    "    im_output.save(folder1 + \"/\"+img_name+\"-morecontrast\" + Extension)"
   ]
  },
  {
   "cell_type": "code",
   "execution_count": 76,
   "id": "70d4ab37",
   "metadata": {},
   "outputs": [],
   "source": [
    "folder = \"/Users/aishu/KNEEDATA4/VANGUARD/vanguardLATaugmentation/vangugardLatzoomout\"\n",
    "folder1= \"/Users/aishu/KNEEDATA4/VANGUARD/vanguardLATaugmentation/vangugardLatcontrastdown\"\n",
    "cont_aug(folder)"
   ]
  },
  {
   "cell_type": "code",
   "execution_count": null,
   "id": "3a285f2f",
   "metadata": {},
   "outputs": [],
   "source": []
  },
  {
   "cell_type": "code",
   "execution_count": null,
   "id": "406c4528",
   "metadata": {},
   "outputs": [],
   "source": []
  }
 ],
 "metadata": {
  "kernelspec": {
   "display_name": "Python 3 (ipykernel)",
   "language": "python",
   "name": "python3"
  },
  "language_info": {
   "codemirror_mode": {
    "name": "ipython",
    "version": 3
   },
   "file_extension": ".py",
   "mimetype": "text/x-python",
   "name": "python",
   "nbconvert_exporter": "python",
   "pygments_lexer": "ipython3",
   "version": "3.9.13"
  }
 },
 "nbformat": 4,
 "nbformat_minor": 5
}
